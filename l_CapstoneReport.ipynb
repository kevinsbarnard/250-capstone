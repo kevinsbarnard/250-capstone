{
 "cells": [
  {
   "cell_type": "markdown",
   "metadata": {},
   "source": [
    "<div style=\"float: left; width: 25%;\">\n",
    "<ul>\n",
    "<img src=\"http://www.minesnewsroom.com/sites/default/files/wysiwyg-editor/photos/CO-Mines-logo-stacked-4C-200x235w.png\" style=\"height: 115px;\">\n",
    "</ul>\n",
    "</div>\n",
    "\n",
    "<div style=\"float: right; width: 75%;\">\n",
    "<ul>\n",
    "    <h1> CSCI 250 - Building a Sensor System </h1>\n",
    "    <span style=\"color:red\">\n",
    "        <h2> Capstone final report - Group 11 </h2>\n",
    "    </span>\n",
    "</ul>\n",
    "</div>"
   ]
  },
  {
   "cell_type": "markdown",
   "metadata": {},
   "source": [
    "# Virtual Calculator: 2D Triangulation from a Multi-Accelerometer System\n",
    "\n",
    "Insert one or more pictures of your project. \n",
    "You can do this by clicking \"Edit\" in the menu bar, then \"Insert Image\""
   ]
  },
  {
   "cell_type": "markdown",
   "metadata": {},
   "source": [
    "# Group \n",
    "* **Azam Abidjanov:** Circuit design\n",
    "* **Kevin Barnard:** Software & data processing\n",
    "* **Brendan Paver:** Report & video"
   ]
  },
  {
   "cell_type": "markdown",
   "metadata": {},
   "source": [
    "# Description\n",
    "\n",
    "For this project, we created a system that is able to locate points in 2D space using three accelerometers.\n",
    "\n",
    "The procedure of the system goes as follows:\n",
    "1. A user holds down a button and then taps somewhere on a 1 meter by 1 meter sized board.\n",
    "2. The three accelerometers detect different time-dependent signals.\n",
    "3. An algorithm performs autocorrelation between the pairs of signals to determine the time difference of arrival (TDOA) between the pairs of accelerometers.\n",
    "4. Based on the two measured TDOAs, the cartesian point (x, y) is calculated.\n",
    "5. The point is compared to defined regions of the board to see which region it belongs to, and the point is displayed.\n",
    "6. The function associated with the respective region is performed, and output to the console."
   ]
  },
  {
   "cell_type": "markdown",
   "metadata": {},
   "source": [
    "# Hardware\n",
    "\n",
    "* 1x SparkFun Button\n",
    "* 3x [SparkFun LIS3DH Triple Axis Accelerometer](https://www.sparkfun.com/products/13963)\n",
    "* Rubber mat"
   ]
  },
  {
   "cell_type": "markdown",
   "metadata": {},
   "source": [
    "# Operation\n",
    "\n",
    "As described above, a user holds down a button and taps on the board in a particular location. Using the described algorithms, the desired function corresponding to the location tapped will be performed, then displayed to the console."
   ]
  },
  {
   "cell_type": "markdown",
   "metadata": {},
   "source": [
    "# Data\n",
    "\n",
    "As stated in the capstone guidelines notebook, your project must have 4 data components:\n",
    "\n",
    "1. Collect data\n",
    "\n",
    "    When the button is pressed down, defined Acclerometer objects read data into their own python lists. The collected acceleration magnitude data is then returned as numpy arrays for processing.\n",
    "\n",
    "\n",
    "2. Process data\n",
    "\n",
    "    When the data is returned as numpy arrays, the autocorrelation algorithm determines the TDOA between pairs of accelerometers. These two TDOAs are passed into a hyperbolic location algorithm, which converts the TDOAs into a scaled Cartesian point in 2D space.\n",
    "\n",
    "\n",
    "3. Display data\n",
    "\n",
    "    The calculated point will be shown in a matplotlib 2D plot for rough validation, and the activated region will be displayed.\n",
    "\n",
    "\n",
    "4. Interpret data\n",
    "\n",
    "    Finally, the activated region will perform a pre-defined function. In the case of the calculator layout, these regions will be numbers, operations, and an equals sign. The result will then be output to the console.\n",
    "\n",
    "\n",
    "Include here a description of the data you collected, what processing was done to it, graphs/plots/visuals created by your code, and your interpretation/analysis of the data. No need to include raw data or code (unless it helps your explanation)."
   ]
  },
  {
   "cell_type": "markdown",
   "metadata": {},
   "source": [
    "# Wiring\n",
    "\n",
    "Include a a description or schematic of how all hardware elements are connected to your RPi. Be specific about what is connected where. There are several websites that allow you to create circuit schematics for free, such as [this one](https://www.circuit-diagram.org/editor/)."
   ]
  },
  {
   "cell_type": "markdown",
   "metadata": {},
   "source": [
    "# Code\n",
    "\n",
    "Include all the code that makes your project run. It can be in a single code cell or split between many cells, whatever you prefer. Add documentation to explain what different portions of your code do."
   ]
  },
  {
   "cell_type": "markdown",
   "metadata": {},
   "source": [
    "# Credits\n",
    "\n",
    "Include references to all code you used in your project. If it's a library, provide name, version and download link."
   ]
  }
 ],
 "metadata": {
  "kernelspec": {
   "display_name": "Python 3",
   "language": "python",
   "name": "python3"
  },
  "language_info": {
   "codemirror_mode": {
    "name": "ipython",
    "version": 3
   },
   "file_extension": ".py",
   "mimetype": "text/x-python",
   "name": "python",
   "nbconvert_exporter": "python",
   "pygments_lexer": "ipython3",
   "version": "3.7.1"
  },
  "varInspector": {
   "cols": {
    "lenName": 16,
    "lenType": 16,
    "lenVar": 40
   },
   "kernels_config": {
    "python": {
     "delete_cmd_postfix": "",
     "delete_cmd_prefix": "del ",
     "library": "var_list.py",
     "varRefreshCmd": "print(var_dic_list())"
    },
    "r": {
     "delete_cmd_postfix": ") ",
     "delete_cmd_prefix": "rm(",
     "library": "var_list.r",
     "varRefreshCmd": "cat(var_dic_list()) "
    }
   },
   "types_to_exclude": [
    "module",
    "function",
    "builtin_function_or_method",
    "instance",
    "_Feature"
   ],
   "window_display": false
  }
 },
 "nbformat": 4,
 "nbformat_minor": 2
}
