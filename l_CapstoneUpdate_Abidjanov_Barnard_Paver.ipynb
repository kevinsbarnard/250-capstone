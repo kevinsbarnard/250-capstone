{
 "cells": [
  {
   "cell_type": "markdown",
   "metadata": {},
   "source": [
    "<div style=\"float: left; width: 25%;\">\n",
    "<ul>\n",
    "<img src=\"http://www.minesnewsroom.com/sites/default/files/wysiwyg-editor/photos/CO-Mines-logo-stacked-4C-200x235w.png\" style=\"height: 115px;\">\n",
    "</ul>\n",
    "</div>\n",
    "\n",
    "<div style=\"float: right; width: 75%;\">\n",
    "<ul>\n",
    "    <h1> CSCI 250 - Building a Sensor System </h1>\n",
    "    <span style=\"color:red\">\n",
    "        <h2> Capstone project update</h2>\n",
    "    </span>\n",
    "</ul>\n",
    "</div>"
   ]
  },
  {
   "cell_type": "markdown",
   "metadata": {},
   "source": [
    "# Virtual Calculator: 2D Triangulation from a Multi-Accelerometer System\n",
    "## Team Members: Brendan Paver, Kevin Barnard, Azam Abidjanov\n"
   ]
  },
  {
   "cell_type": "markdown",
   "metadata": {},
   "source": [
    "# What tasks did you complete so far?\n",
    "\n",
    "We have sucessfully connected all three accelerometers to the pi wedge, setting up two seperate busses as well as changing the address on one accelerometer to 0X1C through soldering the SAO pin on the back. We have modified the I2C file to accomidate all three accelerometers as well."
   ]
  },
  {
   "cell_type": "markdown",
   "metadata": {},
   "source": [
    "# What tasks are yet to be completed? \n",
    "\n",
    "We have to build the system including the board for the calculator and mounts for the accelerometers to better convey the vibration. Also, we have to figure out the traingulation algorithim we are going to use for the project and put it into code."
   ]
  },
  {
   "cell_type": "markdown",
   "metadata": {},
   "source": [
    "# What is your (revised) time line to project completion?\n",
    "\n",
    "### Week 2 (current): \n",
    "* Figure out triangulation methods\n",
    "* Start programming triangulation methods\n",
    "* Finish data processing code\n",
    "* Start building actual board\n",
    "\n",
    "### Week 3: \n",
    "* Finish traingulation code\n",
    "* Write Calibration code\n",
    "* Finish building board and complete system\n",
    "* Perform testing and iterate\n",
    "* Start Video and Final report\n",
    "\n",
    "### Week 4:\n",
    "* Finalize demonstration video\n",
    "* Finalize Final report\n",
    "* Submit Project"
   ]
  },
  {
   "cell_type": "code",
   "execution_count": null,
   "metadata": {
    "collapsed": true
   },
   "outputs": [],
   "source": []
  }
 ],
 "metadata": {
  "kernelspec": {
   "display_name": "Python 3",
   "language": "python",
   "name": "python3"
  },
  "language_info": {
   "codemirror_mode": {
    "name": "ipython",
    "version": 3
   },
   "file_extension": ".py",
   "mimetype": "text/x-python",
   "name": "python",
   "nbconvert_exporter": "python",
   "pygments_lexer": "ipython3",
   "version": "3.6.1"
  },
  "varInspector": {
   "cols": {
    "lenName": 16,
    "lenType": 16,
    "lenVar": 40
   },
   "kernels_config": {
    "python": {
     "delete_cmd_postfix": "",
     "delete_cmd_prefix": "del ",
     "library": "var_list.py",
     "varRefreshCmd": "print(var_dic_list())"
    },
    "r": {
     "delete_cmd_postfix": ") ",
     "delete_cmd_prefix": "rm(",
     "library": "var_list.r",
     "varRefreshCmd": "cat(var_dic_list()) "
    }
   },
   "types_to_exclude": [
    "module",
    "function",
    "builtin_function_or_method",
    "instance",
    "_Feature"
   ],
   "window_display": false
  }
 },
 "nbformat": 4,
 "nbformat_minor": 2
}
