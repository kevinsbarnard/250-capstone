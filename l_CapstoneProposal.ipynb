{
 "cells": [
  {
   "cell_type": "markdown",
   "metadata": {},
   "source": [
    "<div style=\"float: left; width: 25%;\">\n",
    "<ul>\n",
    "<img src=\"http://www.minesnewsroom.com/sites/default/files/wysiwyg-editor/photos/CO-Mines-logo-stacked-4C-200x235w.png\" style=\"height: 115px;\">\n",
    "</ul>\n",
    "</div>\n",
    "\n",
    "<div style=\"float: right; width: 75%;\">\n",
    "<ul>\n",
    "    <h1> CSCI 250 - Building a Sensor System </h1>\n",
    "    <span style=\"color:red\">\n",
    "        <h2> Capstone proposal template </h2>\n",
    "    </span>\n",
    "</ul>\n",
    "</div>"
   ]
  },
  {
   "cell_type": "markdown",
   "metadata": {},
   "source": [
    "# Title and description of the project\n",
    "\n",
    "## Title:  3D Triangulation from a Stereo Geophone System\n",
    "\n",
    "**Description:** For this project, we will be building a stereo geophone sensor system to triangulate points in 3D space from recorded sound."
   ]
  },
  {
   "cell_type": "markdown",
   "metadata": {},
   "source": [
    "# Names and roles of all team members\n",
    "\n",
    "**Azam Abidjanov:** \n",
    "\n",
    "**Kevin Barnard:** \n",
    "\n",
    "**Brendan Paver:** "
   ]
  },
  {
   "cell_type": "markdown",
   "metadata": {},
   "source": [
    "# How the project requirements will be met\n",
    "\n",
    "**Make use of at least 3 different sensors.**\n",
    "We will make use of geophones, and two other sensors, TBD.\n",
    "\n",
    "**Collect and store data (or status info) in external files.**\n",
    "We will store the geophone in binary files to have their signals processed later.\n",
    "\n",
    "**Process data using NumPy arrays and efficient (vectorized, concurrent) calculations.**\n",
    "We will load from those large signal files into numpy arrays for signal processing. Most of these calculations can be vectorized, as signal processing largely cares little for individual data points, and more so for aggregate patterns.\n",
    "\n",
    "**Display data in the final report to demonstrate the project functionality.**\n",
    "We will create 3D plots of the triangulated points to show what the geophones are finding.\n",
    "\n",
    "**Interpret the project data and provide a discussion on the project outcome/success.**\n",
    "We will analyze the 3D points for accuracy and consistency, as well as our signal processing algorithms for their efficacy and efficiency. These results will be numeric, so that we can compare different iterations and configurations of the hardware."
   ]
  },
  {
   "cell_type": "markdown",
   "metadata": {},
   "source": [
    "# Project timeline and milestones\n",
    "\n",
    "## Week 1\n",
    "* Acquire hardware elements\n",
    "* Construct first iteration of the hardware\n",
    "* Write code base for signal processing and triangulation\n",
    "\n",
    "## Week 2\n",
    "* Complete signal processing algorithm\n",
    "* Complete triangulation algorithm\n",
    "* First tests on triangulation\n",
    "\n",
    "## Week 3\n",
    "* Modify hardware and software as needed from tests\n",
    "* Test further and iterate\n",
    "* Create demonstration video\n",
    "* Write project final report\n",
    "\n",
    "## Week 4\n",
    "* Finalize video and report\n",
    "* Submit entire project"
   ]
  },
  {
   "cell_type": "markdown",
   "metadata": {},
   "source": [
    "# Hardware elements you intend to use\n",
    "\n",
    "Sparkfun Geophone x 3"
   ]
  }
 ],
 "metadata": {
  "kernelspec": {
   "display_name": "Python 3",
   "language": "python",
   "name": "python3"
  },
  "language_info": {
   "codemirror_mode": {
    "name": "ipython",
    "version": 3
   },
   "file_extension": ".py",
   "mimetype": "text/x-python",
   "name": "python",
   "nbconvert_exporter": "python",
   "pygments_lexer": "ipython3",
   "version": "3.6.5"
  },
  "varInspector": {
   "cols": {
    "lenName": 16,
    "lenType": 16,
    "lenVar": 40
   },
   "kernels_config": {
    "python": {
     "delete_cmd_postfix": "",
     "delete_cmd_prefix": "del ",
     "library": "var_list.py",
     "varRefreshCmd": "print(var_dic_list())"
    },
    "r": {
     "delete_cmd_postfix": ") ",
     "delete_cmd_prefix": "rm(",
     "library": "var_list.r",
     "varRefreshCmd": "cat(var_dic_list()) "
    }
   },
   "types_to_exclude": [
    "module",
    "function",
    "builtin_function_or_method",
    "instance",
    "_Feature"
   ],
   "window_display": false
  }
 },
 "nbformat": 4,
 "nbformat_minor": 2
}
