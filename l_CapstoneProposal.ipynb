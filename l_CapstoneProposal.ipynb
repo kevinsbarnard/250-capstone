{
 "metadata": {
  "kernelspec": {
   "display_name": "Python 3",
   "language": "python",
   "name": "python3"
  },
  "language_info": {
   "codemirror_mode": {
    "name": "ipython",
    "version": 3
   },
   "file_extension": ".py",
   "mimetype": "text/x-python",
   "name": "python",
   "nbconvert_exporter": "python",
   "pygments_lexer": "ipython3",
   "version": "3.6.5"
  },
  "name": "",
  "signature": "sha256:fa2e824a903c144aa3afd2bc5f026b720d2b94f8f0efba35f808ea30d601f617",
  "varInspector": {
   "cols": {
    "lenName": 16,
    "lenType": 16,
    "lenVar": 40
   },
   "kernels_config": {
    "python": {
     "delete_cmd_postfix": "",
     "delete_cmd_prefix": "del ",
     "library": "var_list.py",
     "varRefreshCmd": "print(var_dic_list())"
    },
    "r": {
     "delete_cmd_postfix": ") ",
     "delete_cmd_prefix": "rm(",
     "library": "var_list.r",
     "varRefreshCmd": "cat(var_dic_list()) "
    }
   },
   "types_to_exclude": [
    "module",
    "function",
    "builtin_function_or_method",
    "instance",
    "_Feature"
   ],
   "window_display": false
  }
 },
 "nbformat": 3,
 "nbformat_minor": 0,
 "worksheets": [
  {
   "cells": [
    {
     "cell_type": "markdown",
     "metadata": {},
     "source": [
      "<div style=\"float: left; width: 25%;\">\n",
      "<ul>\n",
      "<img src=\"http://www.minesnewsroom.com/sites/default/files/wysiwyg-editor/photos/CO-Mines-logo-stacked-4C-200x235w.png\" style=\"height: 115px;\">\n",
      "</ul>\n",
      "</div>\n",
      "\n",
      "<div style=\"float: right; width: 75%;\">\n",
      "<ul>\n",
      "    <h1> CSCI 250 - Building a Sensor System </h1>\n",
      "    <span style=\"color:red\">\n",
      "        <h2> Capstone proposal - Team 11 </h2>\n",
      "    </span>\n",
      "</ul>\n",
      "</div>"
     ]
    },
    {
     "cell_type": "markdown",
     "metadata": {},
     "source": [
      "# Title and description of the project\n",
      "\n",
      "## Title: Virtual Calculator: 2D Triangulation from a Multi-Accelerometer System\n",
      "\n",
      "**Description:** For this project, we will be building a multi-accelerometer sensor system to triangulate points in 2D space from recorded vibration signals. We will use these points, in conjunction with a pre-made piece of paper outlined as a calculator, to make a virtual calculator based on where a user touches on the piece of paper."
     ]
    },
    {
     "cell_type": "markdown",
     "metadata": {},
     "source": [
      "# Names and roles of all team members\n",
      "\n",
      "This is who will take lead on each portion of the project. All group members will contribute to each step.\n",
      "\n",
      "**Azam Abidjanov:** Circuit design\n",
      "\n",
      "**Kevin Barnard:** Software & data processing\n",
      "\n",
      "**Brendan Paver:** Report & video"
     ]
    },
    {
     "cell_type": "markdown",
     "metadata": {},
     "source": [
      "# How the project requirements will be met\n",
      "\n",
      "**Make use of at least 3 different sensors.**\n",
      "We will make use of accelerometers, a push button, and an LED. We will use the accelerometers to triangulate the points, the push button to perform a calibration on the board, and an LED to signal that the program has received a valid point.\n",
      "\n",
      "**Collect and store data (or status info) in external files.**\n",
      "We will store the accelerometer calibration data in binary files so that calibration only needs to be done once.\n",
      "\n",
      "**Process data using NumPy arrays and efficient (vectorized, concurrent) calculations.**\n",
      "We will collect the signal data in numpy arrays for processing. Most of these calculations can be vectorized, as signal processing cares little for individual data points, and more so for aggregate patterns to be matched.\n",
      "\n",
      "**Display data in the final report to demonstrate the project functionality.**\n",
      "We will create 2D plots of the triangulated points to show what the accelerometer triangulation is finding.\n",
      "\n",
      "**Interpret the project data and provide a discussion on the project outcome/success.**\n",
      "We will analyze the 2D points for accuracy and consistency, as well as our signal processing algorithms for their efficacy and efficiency. These results will be numeric, so that we can compare different iterations and configurations of the hardware."
     ]
    },
    {
     "cell_type": "markdown",
     "metadata": {},
     "source": [
      "# Project timeline and milestones\n",
      "\n",
      "## Week 1\n",
      "* Acquire hardware elements\n",
      "* Construct first iteration of the hardware\n",
      "* Write code base for signal processing and triangulation\n",
      "\n",
      "## Week 2\n",
      "* Complete signal processing algorithm\n",
      "* Complete triangulation algorithm\n",
      "* First tests on triangulation\n",
      "\n",
      "## Week 3\n",
      "* Modify hardware and software as needed from tests\n",
      "* Test further and iterate\n",
      "* Create demonstration video\n",
      "* Write project final report\n",
      "\n",
      "## Week 4\n",
      "* Finalize video and report\n",
      "* Submit entire project"
     ]
    },
    {
     "cell_type": "markdown",
     "metadata": {},
     "source": [
      "# Hardware elements you intend to use\n",
      "\n",
      "* Sparkfun accelerometer x 3\n",
      "* Sparkfun LED x 1\n",
      "* Sparkfun push button x 1"
     ]
    }
   ],
   "metadata": {}
  }
 ]
}